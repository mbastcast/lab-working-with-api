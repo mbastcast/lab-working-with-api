{
 "cells": [
  {
   "cell_type": "code",
   "execution_count": 1,
   "id": "ab5382e9-6e0f-4232-9732-684851afaa01",
   "metadata": {},
   "outputs": [],
   "source": [
    "import pandas as pd\n"
   ]
  },
  {
   "cell_type": "code",
   "execution_count": 2,
   "id": "687e9353-904e-407f-a2ca-9079ff3097be",
   "metadata": {},
   "outputs": [],
   "source": [
    "import requests\n"
   ]
  },
  {
   "cell_type": "markdown",
   "id": "1c1fdf7b-b563-4305-be9d-35dad9d1603b",
   "metadata": {},
   "source": [
    "Infosalary.com is a website that collects salary information from thousands of new job offers every day in the United States."
   ]
  },
  {
   "cell_type": "markdown",
   "id": "7120b0f3-c8b8-4f01-94dc-dd349b95c79f",
   "metadata": {},
   "source": [
    "Output object attributes:\n",
    "title (string) --> the job title that was found matching your query (e.g. “Data Analayst”)\n",
    "average (float) --> the average value for all matching salaries, in US dollars per year (e.g. “68351.2”)\n",
    "std (float) --> the standard deviation value for all matching salaries (e.g. “15370.9”)\n",
    "samples (int) --> the number of matching salaries (e.g. 2057)\n",
    "\n"
   ]
  },
  {
   "cell_type": "code",
   "execution_count": 3,
   "id": "e4d146d1-53e7-4447-95d3-63c09c9d3cc4",
   "metadata": {},
   "outputs": [],
   "source": [
    "\n",
    "headers = {\n",
    "\t\"X-RapidAPI-Host\": \"infosalary.p.rapidapi.com\",\n",
    "\t\"X-RapidAPI-Key\": \"9f6fb12677mshc47f9a8a96f3309p1687c3jsnfcd093d02142\"\n",
    "}\n",
    "\n",
    "def get_codes():\n",
    "    \n",
    "    job_title = input('job_title:')\n",
    "    print()\n",
    "    \n",
    "    url = \"https://infosalary.p.rapidapi.com/\"\n",
    "    querystring = {'job_title':job_title.lower()}\n",
    "\n",
    "    response = requests.request(\"GET\", url, headers=headers, params=querystring)\n",
    "\n",
    "    return response.json()\n"
   ]
  },
  {
   "cell_type": "code",
   "execution_count": 30,
   "id": "9e5b2042-1f1c-4b69-ae94-be48f1e7611d",
   "metadata": {},
   "outputs": [
    {
     "name": "stdin",
     "output_type": "stream",
     "text": [
      "job_title: webdev\n"
     ]
    },
    {
     "name": "stdout",
     "output_type": "stream",
     "text": [
      "\n"
     ]
    },
    {
     "data": {
      "text/plain": [
       "{'status': 0, 'error': 'Job title not found!'}"
      ]
     },
     "execution_count": 30,
     "metadata": {},
     "output_type": "execute_result"
    }
   ],
   "source": [
    "answer=get_codes()\n",
    "answer"
   ]
  },
  {
   "cell_type": "code",
   "execution_count": 11,
   "id": "88553668-cff8-4d3e-996a-27b22e6c2231",
   "metadata": {},
   "outputs": [
    {
     "data": {
      "text/plain": [
       "[{'title': 'Junior Web Developer',\n",
       "  'average': '63655.6',\n",
       "  'std': '17182.2',\n",
       "  'samples': '57'}]"
      ]
     },
     "execution_count": 11,
     "metadata": {},
     "output_type": "execute_result"
    }
   ],
   "source": [
    "answer['info']"
   ]
  },
  {
   "cell_type": "code",
   "execution_count": 12,
   "id": "58bf1a9f-0df1-4f9c-ab9d-ca5f6a0d5c09",
   "metadata": {},
   "outputs": [
    {
     "data": {
      "text/html": [
       "<div>\n",
       "<style scoped>\n",
       "    .dataframe tbody tr th:only-of-type {\n",
       "        vertical-align: middle;\n",
       "    }\n",
       "\n",
       "    .dataframe tbody tr th {\n",
       "        vertical-align: top;\n",
       "    }\n",
       "\n",
       "    .dataframe thead th {\n",
       "        text-align: right;\n",
       "    }\n",
       "</style>\n",
       "<table border=\"1\" class=\"dataframe\">\n",
       "  <thead>\n",
       "    <tr style=\"text-align: right;\">\n",
       "      <th></th>\n",
       "      <th>title</th>\n",
       "      <th>average</th>\n",
       "      <th>std</th>\n",
       "      <th>samples</th>\n",
       "    </tr>\n",
       "  </thead>\n",
       "  <tbody>\n",
       "    <tr>\n",
       "      <th>0</th>\n",
       "      <td>Junior Web Developer</td>\n",
       "      <td>63655.6</td>\n",
       "      <td>17182.2</td>\n",
       "      <td>57</td>\n",
       "    </tr>\n",
       "  </tbody>\n",
       "</table>\n",
       "</div>"
      ],
      "text/plain": [
       "                  title  average      std samples\n",
       "0  Junior Web Developer  63655.6  17182.2      57"
      ]
     },
     "execution_count": 12,
     "metadata": {},
     "output_type": "execute_result"
    }
   ],
   "source": [
    "pd.json_normalize(answer['info'])"
   ]
  }
 ],
 "metadata": {
  "kernelspec": {
   "display_name": "Python 3 (ipykernel)",
   "language": "python",
   "name": "python3"
  },
  "language_info": {
   "codemirror_mode": {
    "name": "ipython",
    "version": 3
   },
   "file_extension": ".py",
   "mimetype": "text/x-python",
   "name": "python",
   "nbconvert_exporter": "python",
   "pygments_lexer": "ipython3",
   "version": "3.9.7"
  }
 },
 "nbformat": 4,
 "nbformat_minor": 5
}
